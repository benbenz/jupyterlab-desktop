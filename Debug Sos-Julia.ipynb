{
 "cells": [
  {
   "cell_type": "code",
   "execution_count": 20,
   "id": "50d7cf17-e0f7-4925-bf05-a72d4c637fd1",
   "metadata": {
    "kernel": "Julia",
    "tags": []
   },
   "outputs": [
    {
     "data": {
      "text/plain": [
       "2×2 Matrix{Int64}:\n",
       " 0  0\n",
       " 1  1"
      ]
     },
     "execution_count": 20,
     "metadata": {},
     "output_type": "execute_result"
    }
   ],
   "source": [
    "a = rand([0,1],2,2)"
   ]
  },
  {
   "cell_type": "code",
   "execution_count": 21,
   "id": "813b6b99-5e79-429c-b4a6-32f515ec3d26",
   "metadata": {
    "kernel": "Python3",
    "tags": []
   },
   "outputs": [
    {
     "name": "stderr",
     "output_type": "stream",
     "text": [
      "Args = ['a']\n",
      "Args from = Julia\n",
      "Kernel = <__main__.SoS_Kernel object at 0x15750f850>\n",
      "self = <__main__.SoS_Kernel object at 0x15750f850>\n",
      "items=['a']\n",
      "from kernel = Julia\n",
      "current kernel = Python3\n",
      "SoS-Julia:put_vars:items=['a']\n",
      "SoS-Julia:put_vars:to_kernel=Python3\n",
      "SoS-Julia:put_vars:items post markdown=['a']\n",
      "SoS-Julia:put_vars:Processing item a\n",
      "SoS-Julia:put_vars:py_repr=__julia_py_repr(a)\n",
      "SoS-Julia:put_vars:k_response=[]\n",
      "SoS-Julia:put_vars:items=['a']\n",
      "SoS-Julia:put_vars:to_kernel=SoS\n",
      "SoS-Julia:put_vars:items post markdown=['a']\n",
      "SoS-Julia:put_vars:Processing item a\n",
      "SoS-Julia:put_vars:py_repr=__julia_py_repr(a)\n",
      "SoS-Julia:put_vars:k_response=[]\n",
      "self = <__main__.SoS_Kernel object at 0x15750f850>\n",
      "items=['a']\n",
      "from kernel = None\n",
      "current kernel = Python3\n",
      "Variable a does not exist\n"
     ]
    }
   ],
   "source": [
    "%get a --from Julia"
   ]
  },
  {
   "cell_type": "code",
   "execution_count": 3,
   "id": "9d744517-df51-49ad-98df-a47e13da779c",
   "metadata": {
    "kernel": "Julia",
    "tags": []
   },
   "outputs": [
    {
     "data": {
      "text/plain": [
       "3"
      ]
     },
     "execution_count": 3,
     "metadata": {},
     "output_type": "execute_result"
    }
   ],
   "source": [
    "b = 3"
   ]
  },
  {
   "cell_type": "code",
   "execution_count": 4,
   "id": "97b70ea2-c99e-4531-8c6d-0ba81a4e0f0c",
   "metadata": {
    "kernel": "Python3"
   },
   "outputs": [
    {
     "name": "stderr",
     "output_type": "stream",
     "text": [
      "Args = ['b']\n",
      "Args from = Julia\n",
      "Kernel = <__main__.SoS_Kernel object at 0x1624f0850>\n",
      "self = <__main__.SoS_Kernel object at 0x1624f0850>\n",
      "items=['b']\n",
      "from kernel = Julia\n",
      "current kernel = Python3\n",
      "SoS-Julia:put_vars:items=['b']\n",
      "SoS-Julia:put_vars:to_kernel=Python3\n",
      "SoS-Julia:put_vars:items post markdown=['b']\n",
      "SoS-Julia:put_vars:Processing item b\n",
      "SoS-Julia:put_vars:py_repr=__julia_py_repr(b)\n",
      "SoS-Julia:put_vars:k_response=[['execute_result', {'data': {'text/plain': '\"3\"'}, 'metadata': {}, 'execution_count': 8}]]\n",
      "SoS-Julia:put_vars:response={'data': {'text/plain': '\"3\"'}, 'metadata': {}, 'execution_count': 8}\n",
      "SoS-Julia:put_vars:EXPRE = \"3\"\n",
      "DONE eval\n",
      "RES = {'b': 3}\n",
      "SoS-Julia:put_vars:items=['b']\n",
      "SoS-Julia:put_vars:to_kernel=SoS\n",
      "SoS-Julia:put_vars:items post markdown=['b']\n",
      "SoS-Julia:put_vars:Processing item b\n",
      "SoS-Julia:put_vars:py_repr=__julia_py_repr(b)\n",
      "SoS-Julia:put_vars:k_response=[['execute_result', {'data': {'text/plain': '\"3\"'}, 'metadata': {}, 'execution_count': 10}]]\n",
      "SoS-Julia:put_vars:response={'data': {'text/plain': '\"3\"'}, 'metadata': {}, 'execution_count': 10}\n",
      "SoS-Julia:put_vars:EXPRE = \"3\"\n",
      "DONE eval\n",
      "RES = {'b': 3}\n",
      "self = <__main__.SoS_Kernel object at 0x1624f0850>\n",
      "items=['b']\n",
      "from kernel = None\n",
      "current kernel = Python3\n"
     ]
    }
   ],
   "source": [
    "%get b --from Julia"
   ]
  },
  {
   "cell_type": "code",
   "execution_count": 5,
   "id": "c587c8ea-776b-4b29-a4c8-6ce5d7433b92",
   "metadata": {
    "kernel": "Python3"
   },
   "outputs": [
    {
     "data": {
      "text/plain": [
       "3"
      ]
     },
     "execution_count": 5,
     "metadata": {},
     "output_type": "execute_result"
    }
   ],
   "source": [
    "b"
   ]
  },
  {
   "cell_type": "code",
   "execution_count": 3,
   "id": "cdc06fc9-4983-412b-a792-ceb3f449c895",
   "metadata": {
    "kernel": "Python3"
   },
   "outputs": [
    {
     "name": "stdout",
     "output_type": "stream",
     "text": [
      "jupyterlab-sos            0.8.1              pyhd8ed1ab_0    conda-forge\n",
      "sos                       0.22.4             pyhd8ed1ab_0    conda-forge\n",
      "sos-bash                  0.20.0                     py_0    conda-forge\n",
      "sos-julia                 0.18.5             pyhd8ed1ab_1    conda-forge\n",
      "sos-notebook              0.22.8           py38h50d1736_0    conda-forge\n",
      "sos-papermill             0.2.1                      py_0    conda-forge\n",
      "sos-python                0.18.4                     py_0    conda-forge\n",
      "sos-stata                 0.18.0                   py38_0    file:///Users/benben/opt/miniconda3/envs/stata+julia/conda-bld\n"
     ]
    }
   ],
   "source": [
    "!conda list | grep sos"
   ]
  },
  {
   "cell_type": "code",
   "execution_count": 4,
   "id": "47ab0422-b678-4d34-9cf9-e1c0fe7ebbe2",
   "metadata": {
    "kernel": "Julia",
    "tags": []
   },
   "outputs": [
    {
     "data": {
      "text/plain": [
       "__julia_py_repr (generic function with 1 method)"
      ]
     },
     "execution_count": 13,
     "metadata": {},
     "output_type": "execute_result"
    }
   ],
   "source": [
    "c = rand([0,1],5,5)\n",
    "function __julia_py_repr_logical_1(obj)\n",
    "    obj==true ? \"True\" : \"False\"\n",
    "end\n",
    "function __julia_py_repr_integer_1(obj)\n",
    "    return string(obj)\n",
    "end\n",
    "function __julia_py_repr_double_1(obj)\n",
    "    return \"numpy.float64(\" * string(obj) * \")\"\n",
    "end\n",
    "function __julia_py_repr_complex_1(obj)\n",
    "  rl = real(obj)\n",
    "  im = imag(obj)\n",
    "  return \"complex(\" * string(rl) * \",\" * string(im) * \")\"\n",
    "end\n",
    "function __julia_py_repr_character_1(obj)\n",
    "  return \"r\\\"\\\"\\\"\" * obj * \"\\\"\\\"\\\"\"\n",
    "end\n",
    "function __julia_py_repr_dict_1(obj)\n",
    "  val = collect(values(obj))\n",
    "  key = collect(keys(obj))\n",
    "  res = __julia_py_repr_character_1(key[1]) * \":\" * string(__julia_py_repr(val[1])) * \",\"\n",
    "  for i in 2:length(val)\n",
    "    res = res * __julia_py_repr_character_1(key[i]) * \":\" * string(__julia_py_repr(val[i])) * \",\"\n",
    "  end\n",
    "  return \"{\" * res * \"}\"\n",
    "end\n",
    "# Dataframe in Julia doesn't have rowname. Will keep tracking any update of Dataframes package in Julia\n",
    "function __julia_py_repr_dataframe(obj)\n",
    "  tf = joinpath(tempname())\n",
    "  if !isdefined(@__MODULE__, :Feather)\n",
    "    return \"SOS_JULIA_REQUIRE:feather\"\n",
    "  end\n",
    "  Feather.write(tf, obj)\n",
    "  return \"read_dataframe(\\\"\" * tf * \"\\\")\"\n",
    "end\n",
    "function __julia_py_repr_matrix(obj)\n",
    "  tf = joinpath(tempname())\n",
    "  if !isdefined(@__MODULE__, :DataFrame)\n",
    "    return \"SOS_JULIA_REQUIRE:dataframes\"\n",
    "  end\n",
    "  if !isdefined(@__MODULE__, :Feather)\n",
    "    return \"SOS_JULIA_REQUIRE:feather\"\n",
    "  end\n",
    "  Feather.write(tf, convert(DataFrame, obj))\n",
    "  return \"numpy.asmatrix(read_dataframe(\\\"\" * tf * \"\\\"))\"\n",
    "end\n",
    "# namedarray is specific for list with names (and named vector in R)\n",
    "function __julia_py_repr_namedarray(obj)\n",
    "  key = names(obj)[1]\n",
    "  val = [obj[i] for i in 1:length(key)]\n",
    "  return \"pandas.Series(\" * \"[\" * join([__julia_py_repr(i) for i in val], \",\") * \"],\" * \"index=[\" * join([__julia_py_repr(j) for j in key], \",\") * \"])\"\n",
    "end\n",
    "function __julia_py_repr_set(obj)\n",
    "  return \"{\" * join([__julia_py_repr(i) for i in obj], \",\") * \"}\"\n",
    "end\n",
    "function __julia_py_repr_n(obj)\n",
    "  # The problem of join() is that it would ignore the double quote of a string\n",
    "  return \"[\" * join([__julia_py_repr(i) for i in obj], \",\") * \"]\"\n",
    "end\n",
    "function __julia_has_row_names(df)\n",
    "  return !(names(df)[1]==collect(1:size(df)[1]))\n",
    "end\n",
    "function __julia_has_col_names(df)\n",
    "  return !(names(df)[2]==collect(1:size(df)[2]))\n",
    "end\n",
    "function __julia_py_repr(obj)\n",
    "  if isa(obj, Matrix)\n",
    "    __julia_py_repr_matrix(obj)\n",
    "  elseif isa(obj, Set)\n",
    "    __julia_py_repr_set(obj)\n",
    "  # type of NaN in Julia is Float64\n",
    "  elseif isa(obj, Cvoid) || obj === NaN\n",
    "    return \"None\"\n",
    "  elseif isa(obj, Dict)\n",
    "    __julia_py_repr_dict_1(obj)\n",
    "    # if needed to name vector in julia, need to use a package called NamedArrays\n",
    "  elseif isa(obj, Vector{Int})\n",
    "    if (length(obj) == 1)\n",
    "      __julia_py_repr_integer_1(obj)\n",
    "    else\n",
    "      return \"numpy.array([\" * join([__julia_py_repr_integer_1(i) for i in obj], \",\") * \"])\"\n",
    "    end\n",
    "  elseif isa(obj, Vector{Complex{Int}}) || isa(obj, Vector{Complex{Float64}})\n",
    "    if (length(obj) == 1)\n",
    "      __julia_py_repr_complex_1(obj)\n",
    "    else\n",
    "      return \"[\" * join([__julia_py_repr_complex_1(i) for i in obj], \",\") * \"]\"\n",
    "    end\n",
    "  elseif isa(obj, Vector{Float64})\n",
    "    if (length(obj) == 1)\n",
    "      __julia_py_repr_double_1(obj)\n",
    "    else\n",
    "      return \"numpy.array([\" * join([__julia_py_repr_double_1(i) for i in obj], \",\") * \"], dtype=numpy.float64)\"\n",
    "    end\n",
    "  elseif isa(obj, Vector{String})\n",
    "    if (length(obj) == 1)\n",
    "      __julia_py_repr_character_1(obj)\n",
    "    else\n",
    "      return \"[\" * join([__julia_py_repr_character_1(i) for i in obj], \",\") * \"]\"\n",
    "    end\n",
    "  elseif isa(obj, Vector{Any})\n",
    "      return \"[\" * join([__julia_py_repr(i) for i in obj], \",\") * \"]\"\n",
    "  elseif isa(obj, Vector{Bool})\n",
    "    if (length(obj) == 1)\n",
    "      __julia_py_repr_logical_1(obj)\n",
    "    else\n",
    "      return \"[\" * join([__julia_py_repr_logical_1(i) for i in obj], \",\") * \"]\"\n",
    "    end\n",
    "  elseif isa(obj, Int)\n",
    "    __julia_py_repr_integer_1(obj)\n",
    "  elseif isa(obj, Complex)\n",
    "    __julia_py_repr_complex_1(obj)\n",
    "  elseif isa(obj, Float64)\n",
    "    __julia_py_repr_double_1(obj)\n",
    "  elseif isa(obj, String)\n",
    "    __julia_py_repr_character_1(obj)\n",
    "  elseif isa(obj, Char)\n",
    "    __julia_py_repr_character_1(string(obj))\n",
    "  elseif isa(obj, Bool)\n",
    "    __julia_py_repr_logical_1(obj)\n",
    "  elseif startswith(string(typeof(obj)),\"DataFrame\")\n",
    "    __julia_py_repr_dataframe(obj)\n",
    "  elseif startswith(string(typeof(obj)),\"NamedArray\")\n",
    "    return __julia_py_repr_namedarray(obj)\n",
    "  else\n",
    "    return \"'Untransferrable variable'\"\n",
    "  end\n",
    "end"
   ]
  },
  {
   "cell_type": "code",
   "execution_count": null,
   "id": "aa005387-2dd9-4b76-a516-1ceacc0d190c",
   "metadata": {
    "kernel": "Julia"
   },
   "outputs": [
    {
     "ename": "LoadError",
     "evalue": "UndefVarError: table not defined",
     "output_type": "error",
     "traceback": [
      "UndefVarError: table not defined",
      "",
      "Stacktrace:",
      " [1] __julia_py_repr_matrix(obj::Matrix{Int64})",
      "   @ Main ./In[15]:45",
      " [2] __julia_py_repr(obj::Matrix{Int64})",
      "   @ Main ./In[15]:69",
      " [3] top-level scope",
      "   @ In[16]:1",
      " [4] eval",
      "   @ ./boot.jl:360 [inlined]",
      " [5] include_string(mapexpr::typeof(REPL.softscope), mod::Module, code::String, filename::String)",
      "   @ Base ./loading.jl:1116"
     ]
    }
   ],
   "source": [
    "__julia_py_repr(c)"
   ]
  }
 ],
 "metadata": {
  "kernelspec": {
   "display_name": "SoS",
   "language": "sos",
   "name": "sos"
  },
  "language_info": {
   "codemirror_mode": "sos",
   "file_extension": ".sos",
   "mimetype": "text/x-sos",
   "name": "sos",
   "nbconvert_exporter": "sos_notebook.converter.SoS_Exporter",
   "pygments_lexer": "sos"
  },
  "sos": {
   "kernels": [
    [
     "Julia",
     "julia-1.6",
     "Julia",
     "#ebd8eb",
     ""
    ],
    [
     "Python3",
     "python3",
     "Python3",
     "#FFD91A",
     {
      "name": "ipython",
      "version": 3
     }
    ]
   ],
   "version": "0.22.8"
  }
 },
 "nbformat": 4,
 "nbformat_minor": 5
}
